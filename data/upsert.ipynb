{
 "cells": [
  {
   "cell_type": "markdown",
   "id": "ea057ba6",
   "metadata": {},
   "source": [
    "# ***File dùng để Upsert các Vector đã được lưu ngoài file JSON lên PINECONE***"
   ]
  },
  {
   "cell_type": "code",
   "execution_count": 1,
   "id": "e4c6417c",
   "metadata": {},
   "outputs": [],
   "source": [
    "#Tạo đường dẫn chung để đọc utils\n",
    "import sys\n",
    "import os\n",
    "sys.path.append(os.path.abspath(os.path.join(os.getcwd(), '..', 'src')))"
   ]
  },
  {
   "cell_type": "code",
   "execution_count": 2,
   "id": "9102afcd",
   "metadata": {},
   "outputs": [],
   "source": [
    "import json\n",
    "from pinecone.grpc import PineconeGRPC as Pinecone\n",
    "from dotenv import load_dotenv\n",
    "import os\n",
    "from utils import load_chunks_from_json"
   ]
  },
  {
   "cell_type": "code",
   "execution_count": 3,
   "id": "2728ae57",
   "metadata": {},
   "outputs": [],
   "source": [
    "# Khởi tạo các biến cần thiết\n",
    "load_dotenv(\"../.env\")\n",
    "\n",
    "PINECONE_API_KEY = os.getenv(\"PINECONE_API_KEY\")\n",
    "HOST_DENSE = os.getenv(\"HOST_DENSE\")\n",
    "HOST_SPARSE = os.getenv(\"HOST_SPARSE\")"
   ]
  },
  {
   "cell_type": "code",
   "execution_count": 5,
   "id": "4dccd5b1",
   "metadata": {},
   "outputs": [
    {
     "name": "stdout",
     "output_type": "stream",
     "text": [
      "SỐ LƯỢNG CHUNKS ĐÃ TẢI:\n",
      "  TrietHoc Dense: 400\n",
      "  TrietHoc Sparse: 400\n",
      "  LSD Dense : 347\n",
      "  LSD Sparse: 347\n",
      "  TTHCM Dense : 211\n",
      "  TTHCM Sparse: 211\n"
     ]
    }
   ],
   "source": [
    "# Đọc Dense và Sparse của môn Triết Học\n",
    "TrietHoc_dense_vector = load_chunks_from_json(r\"./TrietHoc/chunks/TrietHoc_Dense.json\")\n",
    "TrietHoc_sparse_vector = load_chunks_from_json(r\"./TrietHoc/chunks/TrietHoc_Sparse.json\")\n",
    "\n",
    "# Đọc Dense và Sparse của môn Lịch Sử Đảng\n",
    "LSD_dense_vector = load_chunks_from_json(r\"./LichSuDang/chunks/Lich_Su_Dang_Dense.json\")\n",
    "LSD_sparse_vector = load_chunks_from_json(r\"./LichSuDang/chunks/Lich_Su_Dang_Sparse.json\")\n",
    "\n",
    "# Đọc Dense và Sparse của môn Tư Tưởng Hồ Chí Minh\n",
    "TTHCM_dense_vector = load_chunks_from_json(r\"./TuTuongHoChiMinh/chunks/TT_HCM_Dense.json\")\n",
    "TTHCM_sparse_vector = load_chunks_from_json(r\"./TuTuongHoChiMinh/chunks/TT_HCM_Sparse.json\")\n",
    "\n",
    "print(f\"SỐ LƯỢNG CHUNKS ĐÃ TẢI:\")\n",
    "print(f\"  TrietHoc Dense: {len(TrietHoc_dense_vector)}\")\n",
    "print(f\"  TrietHoc Sparse: {len(TrietHoc_sparse_vector)}\")\n",
    "\n",
    "print(f\"  LSD Dense : {len(LSD_dense_vector)}\")\n",
    "print(f\"  LSD Sparse: {len(LSD_sparse_vector)}\")\n",
    "\n",
    "print(f\"  TTHCM Dense : {len(TTHCM_dense_vector)}\")\n",
    "print(f\"  TTHCM Sparse: {len(TTHCM_sparse_vector)}\")\n"
   ]
  },
  {
   "cell_type": "code",
   "execution_count": 6,
   "id": "749219ae",
   "metadata": {},
   "outputs": [],
   "source": [
    "pc = Pinecone(api_key=PINECONE_API_KEY)\n",
    "\n",
    "# Lấy ra Index của Dense Database\n",
    "dense_index = pc.Index(host=HOST_DENSE)\n",
    "\n",
    "# Lấy ra Index của Sparse Database\n",
    "sparse_index = pc.Index(host=HOST_SPARSE)"
   ]
  },
  {
   "cell_type": "markdown",
   "id": "c86ac671",
   "metadata": {},
   "source": [
    "## ***Upsert môn Triết Học***"
   ]
  },
  {
   "cell_type": "code",
   "execution_count": 35,
   "id": "5420343e",
   "metadata": {},
   "outputs": [
    {
     "name": "stdout",
     "output_type": "stream",
     "text": [
      "Upsert completed successfully.\n"
     ]
    }
   ],
   "source": [
    "dense_index.upsert(\n",
    "  vectors = TrietHoc_dense_vector,\n",
    "  namespace=\"triet-hoc\"\n",
    ")\n",
    "sparse_index.upsert(\n",
    "  vectors = TrietHoc_sparse_vector,\n",
    "  namespace=\"triet-hoc\"\n",
    ")\n",
    "print(\"Upsert completed successfully.\")"
   ]
  },
  {
   "cell_type": "markdown",
   "id": "1349bb4d",
   "metadata": {},
   "source": [
    "## ***Upsert môn Lịch Sử Đảng***"
   ]
  },
  {
   "cell_type": "code",
   "execution_count": 36,
   "id": "246db248",
   "metadata": {},
   "outputs": [
    {
     "name": "stdout",
     "output_type": "stream",
     "text": [
      "Upsert LSD completed successfully.\n"
     ]
    }
   ],
   "source": [
    "dense_index.upsert(\n",
    "  vectors=LSD_dense_vector,\n",
    "  namespace=\"lich-su-dang\"\n",
    ")\n",
    "sparse_index.upsert(\n",
    "  vectors=LSD_sparse_vector,\n",
    "  namespace=\"lich-su-dang\"\n",
    ")\n",
    "print(\"Upsert LSD completed successfully.\")"
   ]
  },
  {
   "cell_type": "markdown",
   "id": "9f037aca",
   "metadata": {},
   "source": [
    "## ***Upsert môn Tư tưởng Hồ Chí Minh***"
   ]
  },
  {
   "cell_type": "code",
   "execution_count": 7,
   "id": "e6f8edec",
   "metadata": {},
   "outputs": [
    {
     "name": "stdout",
     "output_type": "stream",
     "text": [
      "Upsert TT_HCM completed successfully.\n"
     ]
    }
   ],
   "source": [
    "dense_index.upsert(\n",
    "  vectors=TTHCM_dense_vector,\n",
    "  namespace=\"TT_HCM\"\n",
    ")\n",
    "sparse_index.upsert(\n",
    "  vectors=TTHCM_sparse_vector,\n",
    "  namespace=\"TT_HCM\"\n",
    ")\n",
    "print(\"Upsert TT_HCM completed successfully.\")"
   ]
  },
  {
   "cell_type": "code",
   "execution_count": null,
   "id": "56498453",
   "metadata": {},
   "outputs": [],
   "source": []
  }
 ],
 "metadata": {
  "kernelspec": {
   "display_name": "Python 3",
   "language": "python",
   "name": "python3"
  },
  "language_info": {
   "codemirror_mode": {
    "name": "ipython",
    "version": 3
   },
   "file_extension": ".py",
   "mimetype": "text/x-python",
   "name": "python",
   "nbconvert_exporter": "python",
   "pygments_lexer": "ipython3",
   "version": "3.9.7"
  }
 },
 "nbformat": 4,
 "nbformat_minor": 5
}
