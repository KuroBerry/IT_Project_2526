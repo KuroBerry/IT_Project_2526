{
 "cells": [
  {
   "cell_type": "markdown",
   "id": "ea057ba6",
   "metadata": {},
   "source": [
    "# ***File dùng để Upsert các Vector đã được lưu ngoài file JSON lên PINECONE***"
   ]
  },
  {
   "cell_type": "code",
   "execution_count": 10,
   "id": "e4c6417c",
   "metadata": {},
   "outputs": [],
   "source": [
    "#Tạo đường dẫn chung để đọc utils\n",
    "import sys\n",
    "import os\n",
    "sys.path.append(os.path.abspath(os.path.join(os.getcwd(), '..')))"
   ]
  },
  {
   "cell_type": "code",
   "execution_count": 11,
   "id": "9102afcd",
   "metadata": {},
   "outputs": [],
   "source": [
    "# Tải các thư viện cần thiết\n",
    "import json\n",
    "from pinecone.grpc import PineconeGRPC as Pinecone\n",
    "from dotenv import load_dotenv\n",
    "import os\n",
    "from utils.load_chunks_json import load_chunks_from_json"
   ]
  },
  {
   "cell_type": "code",
   "execution_count": 12,
   "id": "2728ae57",
   "metadata": {},
   "outputs": [],
   "source": [
    "# Khởi tạo các biến cần thiết\n",
    "load_dotenv(\"../.env\")\n",
    "\n",
    "PINECONE_API_KEY = os.getenv(\"PINECONE_API_KEY\")\n",
    "HOST_DENSE = os.getenv(\"HOST_DENSE\")\n",
    "HOST_SPARSE = os.getenv(\"HOST_SPARSE\")"
   ]
  },
  {
   "cell_type": "code",
   "execution_count": null,
   "id": "4dccd5b1",
   "metadata": {},
   "outputs": [
    {
     "name": "stdout",
     "output_type": "stream",
     "text": [
      "SỐ LƯỢNG CHUNKS ĐÃ TẢI:\n",
      "  TrietHoc Dense: 400\n",
      "  TrietHoc Sparse: 400\n",
      "  TrietHoc Child Dense: 1819\n",
      "  LSD Dense (Parent): 347\n",
      "  LSD Sparse: 347\n",
      "  LSD Child Dense: 1971\n",
      "\n",
      "CẤU TRÚC CHILD CHUNK - TRIẾT HỌC:\n",
      "  ID: TrietHoc_chunk_00000_child_0\n",
      "  Parent ID: TrietHoc_chunk_00000\n",
      "  Content length: 213 chars\n",
      "  Vector dimension: 1024\n",
      "\n",
      "CẤU TRÚC CHILD CHUNK - LỊCH SỬ ĐẢNG:\n",
      "  ID: LSD_chunk_00000_child_0\n",
      "  Parent ID: LSD_chunk_00000\n",
      "  Content length: 320 chars\n",
      "  Vector dimension: 1024\n"
     ]
    }
   ],
   "source": [
    "# Đọc Dense và Sparse của môn Triết Học\n",
    "TrietHoc_dense_vector = load_chunks_from_json(r\"./TrietHoc/TrietHoc_Dense_Global.json\")\n",
    "TrietHoc_sparse_vector = load_chunks_from_json(r\"./TrietHoc/TrietHoc_Sparse_Global.json\")\n",
    "\n",
    "# Đọc Dense và Sparse của môn Lịch Sử Đảng\n",
    "LSD_dense_vector = load_chunks_from_json(r\"./LichSuDang/Lich_Su_Dang_Dense_Global.json\")\n",
    "LSD_sparse_vector = load_chunks_from_json(r\"./LichSuDang/Lich_Su_Dang_Sparse_Global.json\")\n",
    "\n",
    "# Đọc Dense và Sparse của môn Tư Tưởng Hồ Chí Minh\n",
    "TTHCM_dense_vector = load_chunks_from_json(r\"./LichSuDang/Lich_Su_Dang_Dense_Global.json\")\n",
    "TTHCM_sparse_vector = load_chunks_from_json(r\"./LichSuDang/Lich_Su_Dang_Sparse_Global.json\")\n",
    "\n",
    "print(f\"SỐ LƯỢNG CHUNKS ĐÃ TẢI:\")\n",
    "print(f\"  TrietHoc Dense: {len(TrietHoc_dense_vector)}\")\n",
    "print(f\"  TrietHoc Sparse: {len(TrietHoc_sparse_vector)}\")\n",
    "\n",
    "print(f\"  LSD Dense: {len(LSD_dense_vector)}\")\n",
    "print(f\"  LSD Sparse: {len(LSD_sparse_vector)}\")\n",
    "\n",
    "print(f\"  TTHCM Dense: {len(TTHCM_dense_vector)}\")\n",
    "print(f\"  TTHCM Sparse: {len(TTHCM_sparse_vector)}\")"
   ]
  },
  {
   "cell_type": "code",
   "execution_count": 14,
   "id": "749219ae",
   "metadata": {},
   "outputs": [],
   "source": [
    "pc = Pinecone(api_key=PINECONE_API_KEY)\n",
    "\n",
    "# Lấy ra Index của Dense Database\n",
    "dense_index = pc.Index(host=HOST_DENSE)\n",
    "\n",
    "# Lấy ra Index của Sparse Database\n",
    "sparse_index = pc.Index(host=HOST_SPARSE)"
   ]
  },
  {
   "cell_type": "markdown",
   "id": "c86ac671",
   "metadata": {},
   "source": [
    "## ***Upsert môn Triết Học***"
   ]
  },
  {
   "cell_type": "code",
   "execution_count": 15,
   "id": "5420343e",
   "metadata": {},
   "outputs": [
    {
     "name": "stdout",
     "output_type": "stream",
     "text": [
      "Upsert completed successfully.\n"
     ]
    }
   ],
   "source": [
    "dense_index.upsert(\n",
    "  vectors = TrietHoc_dense_vector,\n",
    "  namespace=\"triet-hoc\"\n",
    ")\n",
    "sparse_index.upsert(\n",
    "  vectors = TrietHoc_sparse_vector,\n",
    "  namespace=\"triet-hoc\"\n",
    ")\n",
    "print(\"Upsert completed successfully.\")"
   ]
  },
  {
   "cell_type": "markdown",
   "id": "1349bb4d",
   "metadata": {},
   "source": [
    "## ***Upsert môn Lịch Sử Đảng***"
   ]
  },
  {
   "cell_type": "code",
   "execution_count": 16,
   "id": "246db248",
   "metadata": {},
   "outputs": [
    {
     "name": "stdout",
     "output_type": "stream",
     "text": [
      "Upsert LSD completed successfully.\n"
     ]
    }
   ],
   "source": [
    "dense_index.upsert(\n",
    "  vectors=LSD_dense_vector,\n",
    "  namespace=\"lich-su-dang\"\n",
    ")\n",
    "sparse_index.upsert(\n",
    "  vectors=LSD_sparse_vector,\n",
    "  namespace=\"lich-su-dang\"\n",
    ")\n",
    "print(\"Upsert LSD completed successfully.\")"
   ]
  },
  {
   "cell_type": "markdown",
   "id": "a0f69437",
   "metadata": {},
   "source": [
    "## ***Upsert môn Tư Tưởng Hồ Chí Minh***"
   ]
  },
  {
   "cell_type": "code",
   "execution_count": null,
   "id": "8469f97a",
   "metadata": {},
   "outputs": [],
   "source": [
    "dense_index.upsert(\n",
    "  vectors=LSD_dense_vector,\n",
    "  namespace=\"lich-su-dang\"\n",
    ")\n",
    "sparse_index.upsert(\n",
    "  vectors=LSD_sparse_vector,\n",
    "  namespace=\"lich-su-dang\"\n",
    ")\n",
    "print(\"Upsert LSD completed successfully.\")"
   ]
  }
 ],
 "metadata": {
  "kernelspec": {
   "display_name": "base",
   "language": "python",
   "name": "python3"
  },
  "language_info": {
   "codemirror_mode": {
    "name": "ipython",
    "version": 3
   },
   "file_extension": ".py",
   "mimetype": "text/x-python",
   "name": "python",
   "nbconvert_exporter": "python",
   "pygments_lexer": "ipython3",
   "version": "3.12.7"
  }
 },
 "nbformat": 4,
 "nbformat_minor": 5
}
